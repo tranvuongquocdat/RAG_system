{
 "cells": [
  {
   "cell_type": "code",
   "execution_count": 1,
   "id": "30962822",
   "metadata": {},
   "outputs": [
    {
     "name": "stderr",
     "output_type": "stream",
     "text": [
      "Crawling & Converting:   3%|▎         | 3/114 [00:01<00:42,  2.62it/s]"
     ]
    },
    {
     "name": "stdout",
     "output_type": "stream",
     "text": [
      "[WARN] No <article> found for https://www.healthline.com/cancer-care/well-being\n",
      "[WARN] No <article> found for https://www.healthline.com/cancer-care/screenings\n",
      "[WARN] No <article> found for https://www.healthline.com/cancer-care/caregivers\n"
     ]
    },
    {
     "name": "stderr",
     "output_type": "stream",
     "text": [
      "Crawling & Converting:   5%|▌         | 6/114 [00:01<00:19,  5.60it/s]"
     ]
    },
    {
     "name": "stdout",
     "output_type": "stream",
     "text": [
      "[WARN] No <article> found for https://www.healthline.com/cancer-care/treatment\n",
      "[WARN] No <article> found for https://www.healthline.com/cancer-care/diet\n",
      "[WARN] No <article> found for https://www.healthline.com/cancer-care/chemotherapy\n"
     ]
    },
    {
     "name": "stderr",
     "output_type": "stream",
     "text": [
      "Crawling & Converting:   8%|▊         | 9/114 [00:02<00:28,  3.66it/s]"
     ]
    },
    {
     "name": "stdout",
     "output_type": "stream",
     "text": [
      "[WARN] No <article> found for https://www.healthline.com/fitness/cardio\n",
      "[WARN] No <article> found for https://www.healthline.com/fitness/strength-training\n",
      "[WARN] No <article> found for https://www.healthline.com/fitness/exercise\n"
     ]
    },
    {
     "name": "stderr",
     "output_type": "stream",
     "text": [
      "Crawling & Converting:  10%|▉         | 11/114 [00:02<00:21,  4.86it/s]"
     ]
    },
    {
     "name": "stdout",
     "output_type": "stream",
     "text": [
      "[WARN] No <article> found for https://www.healthline.com/fitness/holistic-fitness\n",
      "[WARN] No <article> found for https://www.healthline.com/fitness/products\n"
     ]
    },
    {
     "name": "stderr",
     "output_type": "stream",
     "text": [
      "Crawling & Converting:  11%|█         | 12/114 [00:03<00:20,  4.98it/s]"
     ]
    },
    {
     "name": "stdout",
     "output_type": "stream",
     "text": [
      "[WARN] No <article> found for https://www.healthline.com/fitness/yoga\n"
     ]
    },
    {
     "name": "stderr",
     "output_type": "stream",
     "text": [
      "Crawling & Converting:  19%|█▉        | 22/114 [00:08<00:57,  1.59it/s]"
     ]
    },
    {
     "name": "stdout",
     "output_type": "stream",
     "text": [
      "[WARN] No <article> found for https://www.healthline.com/health/mental-health/how-to-reach-out\n"
     ]
    },
    {
     "name": "stderr",
     "output_type": "stream",
     "text": [
      "Crawling & Converting:  25%|██▌       | 29/114 [00:11<00:23,  3.61it/s]"
     ]
    },
    {
     "name": "stdout",
     "output_type": "stream",
     "text": [
      "[WARN] No <article> found for https://www.healthline.com/mental-health/addiction\n",
      "[WARN] No <article> found for https://www.healthline.com/mental-health/bipolar\n",
      "[WARN] No <article> found for https://www.healthline.com/mental-health/apps\n",
      "[WARN] No <article> found for https://www.healthline.com/mental-health/adhd\n"
     ]
    },
    {
     "name": "stderr",
     "output_type": "stream",
     "text": [
      "Crawling & Converting:  30%|██▉       | 34/114 [00:11<00:12,  6.37it/s]"
     ]
    },
    {
     "name": "stdout",
     "output_type": "stream",
     "text": [
      "[WARN] No <article> found for https://www.healthline.com/mental-health/building-relationships\n",
      "[WARN] No <article> found for https://www.healthline.com/mental-health/eating-disorders\n",
      "[WARN] No <article> found for https://www.healthline.com/mental-health/crisis-support\n",
      "[WARN] No <article> found for https://www.healthline.com/mental-health/mind-and-body\n",
      "[WARN] No <article> found for https://www.healthline.com/mental-health/nutrition-supplements\n"
     ]
    },
    {
     "name": "stderr",
     "output_type": "stream",
     "text": [
      "Crawling & Converting:  33%|███▎      | 38/114 [00:12<00:10,  7.42it/s]"
     ]
    },
    {
     "name": "stdout",
     "output_type": "stream",
     "text": [
      "[WARN] No <article> found for https://www.healthline.com/mental-health/ocd\n",
      "[WARN] No <article> found for https://www.healthline.com/mental-health/schizophrenia\n",
      "[WARN] No <article> found for https://www.healthline.com/mental-health/treatment\n",
      "[WARN] No <article> found for https://www.healthline.com/mental-health/sleep\n"
     ]
    },
    {
     "name": "stderr",
     "output_type": "stream",
     "text": [
      "Crawling & Converting:  43%|████▎     | 49/114 [00:17<00:29,  2.21it/s]"
     ]
    },
    {
     "name": "stdout",
     "output_type": "stream",
     "text": [
      "[WARN] No <article> found for https://www.healthline.com/nutrition/diets\n"
     ]
    },
    {
     "name": "stderr",
     "output_type": "stream",
     "text": [
      "Crawling & Converting:  48%|████▊     | 55/114 [00:21<00:27,  2.16it/s]"
     ]
    },
    {
     "name": "stdout",
     "output_type": "stream",
     "text": [
      "[WARN] No <article> found for https://www.healthline.com/nutrition/feel-good-food\n"
     ]
    },
    {
     "name": "stderr",
     "output_type": "stream",
     "text": [
      "Crawling & Converting:  51%|█████     | 58/114 [00:21<00:17,  3.21it/s]"
     ]
    },
    {
     "name": "stdout",
     "output_type": "stream",
     "text": [
      "[WARN] No <article> found for https://www.healthline.com/nutrition/food-and-nutrients\n"
     ]
    },
    {
     "name": "stderr",
     "output_type": "stream",
     "text": [
      "Crawling & Converting:  53%|█████▎    | 60/114 [00:22<00:21,  2.57it/s]"
     ]
    },
    {
     "name": "stdout",
     "output_type": "stream",
     "text": [
      "[WARN] No <article> found for https://www.healthline.com/nutrition/food-freedom\n"
     ]
    },
    {
     "name": "stderr",
     "output_type": "stream",
     "text": [
      "Crawling & Converting:  62%|██████▏   | 71/114 [00:25<00:12,  3.39it/s]"
     ]
    },
    {
     "name": "stdout",
     "output_type": "stream",
     "text": [
      "[WARN] No <article> found for https://www.healthline.com/nutrition/meal-kits\n"
     ]
    },
    {
     "name": "stderr",
     "output_type": "stream",
     "text": [
      "Crawling & Converting:  66%|██████▌   | 75/114 [00:25<00:07,  4.92it/s]"
     ]
    },
    {
     "name": "stdout",
     "output_type": "stream",
     "text": [
      "[WARN] No <article> found for https://www.healthline.com/nutrition/meal-kits/meal-kit-reviews\n"
     ]
    },
    {
     "name": "stderr",
     "output_type": "stream",
     "text": [
      "Crawling & Converting:  67%|██████▋   | 76/114 [00:26<00:10,  3.71it/s]"
     ]
    },
    {
     "name": "stdout",
     "output_type": "stream",
     "text": [
      "[WARN] No <article> found for https://www.healthline.com/nutrition/meal-kits/diets\n"
     ]
    },
    {
     "name": "stderr",
     "output_type": "stream",
     "text": [
      "Crawling & Converting:  68%|██████▊   | 78/114 [00:26<00:08,  4.33it/s]"
     ]
    },
    {
     "name": "stdout",
     "output_type": "stream",
     "text": [
      "[WARN] No <article> found for https://www.healthline.com/nutrition/meal-kits/grocery-delivery\n",
      "[WARN] No <article> found for https://www.healthline.com/nutrition/meal-kits/prepared-meal-reviews\n",
      "[WARN] No <article> found for https://www.healthline.com/nutrition/meal-kits/comparisons\n"
     ]
    },
    {
     "name": "stderr",
     "output_type": "stream",
     "text": [
      "Crawling & Converting:  72%|███████▏  | 82/114 [00:27<00:08,  3.97it/s]"
     ]
    },
    {
     "name": "stdout",
     "output_type": "stream",
     "text": [
      "[WARN] No <article> found for https://www.healthline.com/nutrition/nutrition-for-conditions\n"
     ]
    },
    {
     "name": "stderr",
     "output_type": "stream",
     "text": [
      "Crawling & Converting:  82%|████████▏ | 94/114 [00:32<00:07,  2.78it/s]"
     ]
    },
    {
     "name": "stdout",
     "output_type": "stream",
     "text": [
      "[WARN] No <article> found for https://www.healthline.com/nutrition/vitamins-and-supplements[WARN] No <article> found for https://www.healthline.com/nutrition/weight-management\n",
      "\n"
     ]
    },
    {
     "name": "stderr",
     "output_type": "stream",
     "text": [
      "Crawling & Converting:  86%|████████▌ | 98/114 [00:33<00:05,  3.07it/s]"
     ]
    },
    {
     "name": "stdout",
     "output_type": "stream",
     "text": [
      "[WARN] No <article> found for https://www.healthline.com/reviews/at-home-testing-products\n"
     ]
    },
    {
     "name": "stderr",
     "output_type": "stream",
     "text": [
      "Crawling & Converting:  90%|█████████ | 103/114 [00:34<00:01,  5.60it/s]"
     ]
    },
    {
     "name": "stdout",
     "output_type": "stream",
     "text": [
      "[WARN] No <article> found for https://www.healthline.com/reviews/at-home-tests\n",
      "[WARN] No <article> found for https://www.healthline.com/reviews/at-home-tests/drugs-toxicology\n"
     ]
    },
    {
     "name": "stderr",
     "output_type": "stream",
     "text": [
      "Crawling & Converting:  91%|█████████ | 104/114 [00:34<00:01,  5.15it/s]"
     ]
    },
    {
     "name": "stdout",
     "output_type": "stream",
     "text": [
      "[WARN] No <article> found for https://www.healthline.com/reviews/at-home-tests/covid\n",
      "[WARN] No <article> found for https://www.healthline.com/reviews/at-home-tests/nutrition-and-well-being\n"
     ]
    },
    {
     "name": "stderr",
     "output_type": "stream",
     "text": [
      "Crawling & Converting:  93%|█████████▎| 106/114 [00:35<00:01,  5.12it/s]"
     ]
    },
    {
     "name": "stdout",
     "output_type": "stream",
     "text": [
      "[WARN] No <article> found for https://www.healthline.com/reviews/at-home-tests/fertility-family-planning\n",
      "[WARN] No <article> found for https://www.healthline.com/reviews/mental-health-services-and-products\n"
     ]
    },
    {
     "name": "stderr",
     "output_type": "stream",
     "text": [
      "Crawling & Converting:  96%|█████████▋| 110/114 [00:35<00:00,  7.30it/s]"
     ]
    },
    {
     "name": "stdout",
     "output_type": "stream",
     "text": [
      "[WARN] No <article> found for https://www.healthline.com/reviews/at-home-tests/std\n",
      "[WARN] No <article> found for https://www.healthline.com/reviews/nutrition-products\n",
      "[WARN] No <article> found for https://www.healthline.com/reviews/mens-health-products\n"
     ]
    },
    {
     "name": "stderr",
     "output_type": "stream",
     "text": [
      "Crawling & Converting: 100%|██████████| 114/114 [00:35<00:00,  3.18it/s]"
     ]
    },
    {
     "name": "stdout",
     "output_type": "stream",
     "text": [
      "[WARN] No <article> found for https://www.healthline.com/reviews/sleep-products\n",
      "[WARN] No <article> found for https://www.healthline.com/reviews/vitamin-and-supplement-products\n",
      "[WARN] No <article> found for https://www.healthline.com/reviews/womens-health-products\n"
     ]
    },
    {
     "name": "stderr",
     "output_type": "stream",
     "text": [
      "\n"
     ]
    }
   ],
   "source": [
    "# Đoạn code này có thể bị crash do một số nguyên nhân phổ biến sau:\n",
    "# 1. Một số link không trả về nội dung (timeout, lỗi mạng, bị chặn bởi bot, v.v.)\n",
    "# 2. Một số trang không có thẻ <article> nên content = None, dẫn đến file html rỗng hoặc lỗi khi convert PDF.\n",
    "# 3. Quá nhiều luồng (6 luồng) có thể gây quá tải mạng hoặc bị server chặn.\n",
    "# 4. Thư viện weasyprint có thể lỗi khi convert HTML không hợp lệ hoặc thiếu resource (CSS, font, v.v.)\n",
    "# 5. Không log ra lỗi chi tiết nên khó debug.\n",
    "\n",
    "# Để debug, bạn nên in/log lỗi chi tiết trong except, ví dụ:\n",
    "import os\n",
    "import requests\n",
    "from bs4 import BeautifulSoup\n",
    "from weasyprint import HTML\n",
    "from concurrent.futures import ThreadPoolExecutor, as_completed\n",
    "from tqdm import tqdm\n",
    "\n",
    "URL_files = [\n",
    "    \"healthline_cancer-care_links.txt\",\n",
    "    \"healthline_fitness_links.txt\",\n",
    "    \"healthline_mental-health_links.txt\",\n",
    "    \"healthline_nutrition_links.txt\",\n",
    "    \"healthline_reviews_links.txt\"\n",
    "]\n",
    "\n",
    "os.makedirs(\"data_html\", exist_ok=True)\n",
    "os.makedirs(\"data_pdf\", exist_ok=True)\n",
    "\n",
    "def url_to_filename(url):\n",
    "    safe_url = url.replace(\"https://\", \"\").replace(\"http://\", \"\")\n",
    "    safe_url = safe_url.replace(\"/\", \"_\").replace(\"?\", \"_\").replace(\":\", \"_\").replace(\"&\", \"_\").replace(\"=\", \"_\").replace(\"#\", \"_\")\n",
    "    return safe_url\n",
    "\n",
    "def crawl_and_save(url):\n",
    "    try:\n",
    "        response = requests.get(url, timeout=20)\n",
    "        soup = BeautifulSoup(response.content, \"html.parser\")\n",
    "        content = soup.find(\"article\")\n",
    "        if not content:\n",
    "            print(f\"[WARN] No <article> found for {url}\")\n",
    "            return url, False\n",
    "        html_path = f\"data_html/{url_to_filename(url)}.html\"\n",
    "        pdf_path = f\"data_pdf/{url_to_filename(url)}.pdf\"\n",
    "        with open(html_path, \"w\", encoding=\"utf-8\") as f:\n",
    "            f.write(str(content))\n",
    "        try:\n",
    "            HTML(html_path).write_pdf(pdf_path)\n",
    "        except Exception as e:\n",
    "            print(f\"[ERROR] PDF convert failed for {url}: {e}\")\n",
    "            return url, False\n",
    "        return url, True\n",
    "    except Exception as e:\n",
    "        print(f\"[ERROR] Exception for {url}: {e}\")\n",
    "        return url, False\n",
    "\n",
    "all_links = []\n",
    "for file in URL_files:\n",
    "    with open(file, \"r\", encoding=\"utf-8\") as f:\n",
    "        all_links.extend([line.strip() for line in f if line.strip()])\n",
    "\n",
    "results = []\n",
    "with ThreadPoolExecutor(max_workers=6) as executor:\n",
    "    futures = {executor.submit(crawl_and_save, url): url for url in all_links}\n",
    "    for future in tqdm(as_completed(futures), total=len(futures), desc=\"Crawling & Converting\"):\n",
    "        url, success = future.result()\n",
    "        results.append((url, success))"
   ]
  },
  {
   "cell_type": "code",
   "execution_count": null,
   "id": "4ab836d0",
   "metadata": {},
   "outputs": [],
   "source": [
    "import asyncio\n",
    "import nest_asyncio\n",
    "from playwright.async_api import async_playwright\n",
    "from bs4 import BeautifulSoup\n",
    "from urllib.parse import urljoin\n",
    "from tqdm.notebook import tqdm\n",
    "\n",
    "nest_asyncio.apply()\n",
    "\n",
    "base_url_list = [\n",
    "    \"nutrition\",\n",
    "    \"sleep\",\n",
    "    \"mental-health\",\n",
    "    \"fitness\",\n",
    "    \"reviews\",\n",
    "    \"cancer-care\",\n",
    "    \"heart-health\"\n",
    "]\n",
    "\n",
    "async def scrape_healthline_links(end, pbar=None):\n",
    "    base_url = f\"https://www.healthline.com/{end}\"\n",
    "    all_links = set()\n",
    "\n",
    "    async with async_playwright() as p:\n",
    "        browser = await p.chromium.launch(headless=True)\n",
    "        page = await browser.new_page()\n",
    "        await page.goto(base_url, wait_until=\"networkidle\")\n",
    "        \n",
    "        while True:\n",
    "            content = await page.content()\n",
    "            soup = BeautifulSoup(content, \"html.parser\")\n",
    "            article_links = soup.select(f\"a[href*='/{end}/']\")\n",
    "            prev_count = len(all_links)\n",
    "            for link in article_links:\n",
    "                href = link.get(\"href\")\n",
    "                full_url = urljoin(base_url, href)\n",
    "                if f\"/{end}/\" in full_url and not full_url.endswith((\".pdf\", \"/category/\", \"/tag/\")):\n",
    "                    all_links.add(full_url)\n",
    "            if pbar:\n",
    "                pbar.set_postfix_str(f\"{len(all_links)} links\")\n",
    "                pbar.update(len(all_links) - prev_count)\n",
    "            # Tìm nút \"Load More\"\n",
    "            load_more = await page.query_selector(\"button[class*='load-more']\")\n",
    "            if load_more:\n",
    "                await load_more.click()\n",
    "                await page.wait_for_timeout(2000)\n",
    "            else:\n",
    "                await page.evaluate(\"window.scrollTo(0, document.body.scrollHeight)\")\n",
    "                await page.wait_for_timeout(2000)\n",
    "                new_content = await page.content()\n",
    "                new_soup = BeautifulSoup(new_content, \"html.parser\")\n",
    "                new_links = new_soup.select(f\"a[href*='/{end}/']\")\n",
    "                if len(new_links) == len(article_links):\n",
    "                    break\n",
    "        await browser.close()\n",
    "\n",
    "    with open(f\"healthline_{end}_links.txt\", \"w\", encoding=\"utf-8\") as f:\n",
    "        for link in sorted(all_links):\n",
    "            f.write(f\"{link}\\n\")\n",
    "    if pbar:\n",
    "        pbar.set_postfix_str(f\"Done: {len(all_links)} links\")\n",
    "    return all_links\n",
    "\n",
    "async def main_parallel():\n",
    "    tasks = []\n",
    "    pbar_dict = {}\n",
    "    loop = asyncio.get_event_loop()\n",
    "    with tqdm(total=len(base_url_list), desc=\"Chuyên mục\", unit=\"cat\") as main_pbar:\n",
    "        for end in base_url_list:\n",
    "            pbar = tqdm(total=0, desc=f\"{end}\", position=1+base_url_list.index(end), leave=False, unit=\"link\")\n",
    "            pbar_dict[end] = pbar\n",
    "            tasks.append(scrape_healthline_links(end, pbar))\n",
    "        results = await asyncio.gather(*tasks)\n",
    "        for pbar in pbar_dict.values():\n",
    "            pbar.close()\n",
    "        main_pbar.update(len(base_url_list))\n",
    "    return results\n",
    "\n",
    "asyncio.run(main_parallel())"
   ]
  },
  {
   "cell_type": "code",
   "execution_count": null,
   "id": "9420da4f",
   "metadata": {},
   "outputs": [
    {
     "ename": "ModuleNotFoundError",
     "evalue": "No module named 'textract'",
     "output_type": "error",
     "traceback": [
      "\u001b[31m---------------------------------------------------------------------------\u001b[39m",
      "\u001b[31mModuleNotFoundError\u001b[39m                       Traceback (most recent call last)",
      "\u001b[36mCell\u001b[39m\u001b[36m \u001b[39m\u001b[32mIn[1]\u001b[39m\u001b[32m, line 4\u001b[39m\n\u001b[32m      2\u001b[39m \u001b[38;5;28;01mimport\u001b[39;00m\u001b[38;5;250m \u001b[39m\u001b[34;01mlogging\u001b[39;00m\n\u001b[32m      3\u001b[39m \u001b[38;5;28;01mimport\u001b[39;00m\u001b[38;5;250m \u001b[39m\u001b[34;01masyncio\u001b[39;00m\n\u001b[32m----> \u001b[39m\u001b[32m4\u001b[39m \u001b[38;5;28;01mimport\u001b[39;00m\u001b[38;5;250m \u001b[39m\u001b[34;01mtextract\u001b[39;00m\n\u001b[32m      5\u001b[39m \u001b[38;5;28;01mimport\u001b[39;00m\u001b[38;5;250m \u001b[39m\u001b[34;01mnumpy\u001b[39;00m\u001b[38;5;250m \u001b[39m\u001b[38;5;28;01mas\u001b[39;00m\u001b[38;5;250m \u001b[39m\u001b[34;01mnp\u001b[39;00m\n\u001b[32m      6\u001b[39m \u001b[38;5;28;01mfrom\u001b[39;00m\u001b[38;5;250m \u001b[39m\u001b[34;01mlightrag\u001b[39;00m\u001b[38;5;250m \u001b[39m\u001b[38;5;28;01mimport\u001b[39;00m LightRAG, QueryParam\n",
      "\u001b[31mModuleNotFoundError\u001b[39m: No module named 'textract'"
     ]
    }
   ],
   "source": [
    "import os\n",
    "import logging\n",
    "import asyncio\n",
    "import numpy as np\n",
    "from lightrag import LightRAG, QueryParam\n",
    "from lightrag.utils import EmbeddingFunc\n",
    "from Transformers import AutoTokenizer, AutoModel\n",
    "from groq import Groq\n",
    "from pathlib import Path\n",
    "from tqdm import tqdm\n",
    "import torch\n",
    "from tika import parser\n",
    "\n",
    "# Thiết lập logging\n",
    "logging.basicConfig(format=\"%(levelname)s:%(message)s\", level=logging.INFO)\n",
    "\n",
    "# Thư mục chứa file PDF\n",
    "WORKING_DIR = \"./rag_project\"\n",
    "DATA_PDF_DIR = \"./data_pdf\"\n",
    "os.makedirs(WORKING_DIR, exist_ok=True)\n",
    "\n",
    "# Hàm nhúng bge-m3 cục bộ\n",
    "def bge_m3_embedding(texts):\n",
    "    model_name = \"BAAI/bge-m3\"\n",
    "    tokenizer = AutoTokenizer.from_pretrained(model_name)\n",
    "    model = AutoModel.from_pretrained(model_name)\n",
    "    model.eval()\n",
    "    \n",
    "    inputs = tokenizer(texts, padding=True, truncation=True, return_tensors=\"pt\", max_length=512)\n",
    "    with torch.no_grad():\n",
    "        embeddings = model(**inputs).last_hidden_state.mean(dim=1).numpy()\n",
    "    return embeddings\n",
    "\n",
    "# Hàm gọi Groq LLM\n",
    "async def groq_llm_func(prompt, system_prompt=None, history_messages=None, **kwargs):\n",
    "    client = Groq(api_key=\"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\")\n",
    "    messages = []\n",
    "    if system_prompt:\n",
    "        messages.append({\"role\": \"system\", \"content\": system_prompt})\n",
    "    if history_messages:\n",
    "        messages.extend(history_messages)\n",
    "    messages.append({\"role\": \"user\", \"content\": prompt})\n",
    "    \n",
    "    try:\n",
    "        completion = client.chat.completions.create(\n",
    "            model=\"meta-llama/llama-4-scout-17b-16e-instruct\",\n",
    "            messages=messages,\n",
    "            temperature=1,\n",
    "            max_completion_tokens=4080,\n",
    "            top_p=1,\n",
    "            stream=False\n",
    "        )\n",
    "        return completion.choices[0].message.content\n",
    "    except Exception as e:\n",
    "        logging.error(f\"Lỗi khi gọi Groq LLM: {e}\")\n",
    "        return \"\"\n",
    "\n",
    "# Hàm trích xuất văn bản từ PDF với Tika\n",
    "def extract_pdf_texts(pdf_dir):\n",
    "    documents = []\n",
    "    sources = []\n",
    "    pdf_files = list(Path(pdf_dir).glob(\"*.pdf\"))\n",
    "    total_files = len(pdf_files)\n",
    "    \n",
    "    if total_files == 0:\n",
    "        logging.warning(f\"Không tìm thấy file PDF nào trong thư mục {pdf_dir}\")\n",
    "        return documents, sources\n",
    "    \n",
    "    logging.info(f\"Bắt đầu trích xuất {total_files} file PDF...\")\n",
    "    for pdf_file in tqdm(pdf_files, desc=\"Trích xuất PDF\", unit=\"file\"):\n",
    "        try:\n",
    "            parsed = parser.from_file(str(pdf_file), requestOptions={'timeout': 300})\n",
    "            text = parsed.get(\"content\", \"\").strip()\n",
    "            if not text:\n",
    "                logging.warning(f\"Tệp {pdf_file.name} không chứa nội dung văn bản hoặc có thể là PDF quét.\")\n",
    "                continue\n",
    "            source = pdf_file.stem  # Lấy tên file không đuôi\n",
    "            documents.append(text)\n",
    "            sources.append(source)\n",
    "            logging.info(f\"Đã xử lý: {pdf_file.name}\")\n",
    "        except Exception as e:\n",
    "            logging.error(f\"Lỗi khi xử lý {pdf_file}: {e}\")\n",
    "    return documents, sources\n",
    "\n",
    "# Hàm tạo câu trả lời với trích dẫn\n",
    "def format_response_with_citation(response, sources):\n",
    "    formatted_response = response\n",
    "    for source in set(sources):  # Loại bỏ trùng lặp\n",
    "        formatted_response += f\" ({source})\"\n",
    "    return formatted_response\n",
    "\n",
    "# Khởi tạo LightRAG\n",
    "async def initialize_rag():\n",
    "    logging.info(\"Khởi tạo LightRAG...\")\n",
    "    try:\n",
    "        rag = LightRAG(\n",
    "            working_dir=WORKING_DIR,\n",
    "            llm_model_func=groq_llm_func,\n",
    "            embedding_func=EmbeddingFunc(\n",
    "                embedding_dim=1024,  # Kích thước nhúng của bge-m3\n",
    "                max_token_size=512,\n",
    "                func=bge_m3_embedding\n",
    "            )\n",
    "        )\n",
    "        await rag.initialize_storages()\n",
    "        logging.info(\"LightRAG đã được khởi tạo.\")\n",
    "        return rag\n",
    "    except Exception as e:\n",
    "        logging.error(f\"Lỗi khi khởi tạo LightRAG: {e}\")\n",
    "        return None\n",
    "\n",
    "# Hàm chính\n",
    "async def main():\n",
    "    # Khởi tạo RAG\n",
    "    rag = await initialize_rag()\n",
    "    if not rag:\n",
    "        logging.error(\"Không thể khởi tạo LightRAG. Thoát chương trình.\")\n",
    "        return\n",
    "    \n",
    "    # Trích xuất văn bản từ PDF\n",
    "    logging.info(\"Bắt đầu trích xuất văn bản từ PDF...\")\n",
    "    documents, sources = extract_pdf_texts(DATA_PDF_DIR)\n",
    "    if not documents:\n",
    "        logging.error(\"Không có tài liệu nào được trích xuất. Thoát chương trình.\")\n",
    "        return\n",
    "    \n",
    "    # Chèn văn bản vào LightRAG với tiến trình\n",
    "    logging.info(\"Bắt đầu chèn tài liệu vào LightRAG...\")\n",
    "    for doc, source in tqdm(zip(documents, sources), total=len(documents), desc=\"Chèn tài liệu\", unit=\"document\"):\n",
    "        try:\n",
    "            rag.insert(f\"{doc}\\nSource: {source}\")\n",
    "        except Exception as e:\n",
    "            logging.error(f\"Lỗi khi chèn tài liệu {source}: {e}\")\n",
    "    logging.info(\"Hoàn tất chèn tài liệu.\")\n",
    "    \n",
    "    # Ví dụ truy vấn\n",
    "    query = \"How to cope with anxiety?\"\n",
    "    modes = [\"naive\", \"local\", \"global\", \"hybrid\"]\n",
    "    \n",
    "    logging.info(\"Bắt đầu truy vấn...\")\n",
    "    for mode in tqdm(modes, desc=\"Truy vấn các chế độ\", unit=\"mode\"):\n",
    "        logging.info(f\"Đang truy vấn với chế độ {mode}...\")\n",
    "        try:\n",
    "            result = await rag.query(query, param=QueryParam(mode=mode))\n",
    "            formatted_result = format_response_with_citation(result, sources)\n",
    "            print(f\"\\nKết quả với chế độ {mode}:\\n{formatted_result}\")\n",
    "        except Exception as e:\n",
    "            logging.error(f\"Lỗi khi truy vấn với chế độ {mode}: {e}\")\n",
    "    logging.info(\"Hoàn tất truy vấn.\")\n",
    "\n",
    "# Chạy chương trình\n",
    "if __name__ == \"__main__\":\n",
    "    asyncio.run(main())"
   ]
  }
 ],
 "metadata": {
  "kernelspec": {
   "display_name": "env_RAG",
   "language": "python",
   "name": "python3"
  },
  "language_info": {
   "codemirror_mode": {
    "name": "ipython",
    "version": 3
   },
   "file_extension": ".py",
   "mimetype": "text/x-python",
   "name": "python",
   "nbconvert_exporter": "python",
   "pygments_lexer": "ipython3",
   "version": "3.11.13"
  }
 },
 "nbformat": 4,
 "nbformat_minor": 5
}
